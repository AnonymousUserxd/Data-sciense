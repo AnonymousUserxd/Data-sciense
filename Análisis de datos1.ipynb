{
 "cells": [
  {
   "cell_type": "code",
   "execution_count": 1,
   "metadata": {},
   "outputs": [],
   "source": [
    "import pandas as pd #importamos el módulo"
   ]
  },
  {
   "cell_type": "code",
   "execution_count": 2,
   "metadata": {},
   "outputs": [],
   "source": [
    "data = pd.read_csv('/storage/emulated/0/Download/Forbes.csv')\n",
    "#Aqui guardamos todos los datos del archivo en una variable"
   ]
  },
  {
   "cell_type": "code",
   "execution_count": 3,
   "metadata": {},
   "outputs": [
    {
     "data": {
      "text/html": [
       "<div>\n",
       "<style scoped>\n",
       "    .dataframe tbody tr th:only-of-type {\n",
       "        vertical-align: middle;\n",
       "    }\n",
       "\n",
       "    .dataframe tbody tr th {\n",
       "        vertical-align: top;\n",
       "    }\n",
       "\n",
       "    .dataframe thead th {\n",
       "        text-align: right;\n",
       "    }\n",
       "</style>\n",
       "<table border=\"1\" class=\"dataframe\">\n",
       "  <thead>\n",
       "    <tr style=\"text-align: right;\">\n",
       "      <th></th>\n",
       "      <th>Company</th>\n",
       "      <th>Sector</th>\n",
       "      <th>Industry</th>\n",
       "      <th>Continent</th>\n",
       "      <th>Country</th>\n",
       "      <th>Market Value</th>\n",
       "      <th>Sales</th>\n",
       "      <th>Profits</th>\n",
       "      <th>Assets</th>\n",
       "      <th>Rank</th>\n",
       "      <th>Forbes Webpage</th>\n",
       "    </tr>\n",
       "  </thead>\n",
       "  <tbody>\n",
       "    <tr>\n",
       "      <th>0</th>\n",
       "      <td>ICBC</td>\n",
       "      <td>Financials</td>\n",
       "      <td>Major Banks</td>\n",
       "      <td>Asia</td>\n",
       "      <td>China</td>\n",
       "      <td>215.6</td>\n",
       "      <td>148.7</td>\n",
       "      <td>42.7</td>\n",
       "      <td>3124.9</td>\n",
       "      <td>1</td>\n",
       "      <td>http://www.forbes.com/companies/icbc/</td>\n",
       "    </tr>\n",
       "    <tr>\n",
       "      <th>1</th>\n",
       "      <td>China Construction Bank</td>\n",
       "      <td>Financials</td>\n",
       "      <td>Regional Banks</td>\n",
       "      <td>Asia</td>\n",
       "      <td>China</td>\n",
       "      <td>174.4</td>\n",
       "      <td>121.3</td>\n",
       "      <td>34.2</td>\n",
       "      <td>2449.5</td>\n",
       "      <td>2</td>\n",
       "      <td>http://www.forbes.com/companies/china-construc...</td>\n",
       "    </tr>\n",
       "    <tr>\n",
       "      <th>2</th>\n",
       "      <td>Agricultural Bank of China</td>\n",
       "      <td>Financials</td>\n",
       "      <td>Regional Banks</td>\n",
       "      <td>Asia</td>\n",
       "      <td>China</td>\n",
       "      <td>141.1</td>\n",
       "      <td>136.4</td>\n",
       "      <td>27.0</td>\n",
       "      <td>2405.4</td>\n",
       "      <td>3</td>\n",
       "      <td>http://www.forbes.com/companies/agricultural-b...</td>\n",
       "    </tr>\n",
       "    <tr>\n",
       "      <th>3</th>\n",
       "      <td>JPMorgan Chase</td>\n",
       "      <td>Financials</td>\n",
       "      <td>Major Banks</td>\n",
       "      <td>North America</td>\n",
       "      <td>United States</td>\n",
       "      <td>229.7</td>\n",
       "      <td>105.7</td>\n",
       "      <td>17.3</td>\n",
       "      <td>2435.3</td>\n",
       "      <td>4</td>\n",
       "      <td>http://www.forbes.com/companies/jpmorgan-chase/</td>\n",
       "    </tr>\n",
       "    <tr>\n",
       "      <th>4</th>\n",
       "      <td>Berkshire Hathaway</td>\n",
       "      <td>Financials</td>\n",
       "      <td>Investment Services</td>\n",
       "      <td>North America</td>\n",
       "      <td>United States</td>\n",
       "      <td>309.1</td>\n",
       "      <td>178.8</td>\n",
       "      <td>19.5</td>\n",
       "      <td>493.4</td>\n",
       "      <td>5</td>\n",
       "      <td>http://www.forbes.com/companies/berkshire-hath...</td>\n",
       "    </tr>\n",
       "  </tbody>\n",
       "</table>\n",
       "</div>"
      ],
      "text/plain": [
       "                      Company      Sector             Industry      Continent  \\\n",
       "0                        ICBC  Financials          Major Banks           Asia   \n",
       "1     China Construction Bank  Financials       Regional Banks           Asia   \n",
       "2  Agricultural Bank of China  Financials       Regional Banks           Asia   \n",
       "3              JPMorgan Chase  Financials          Major Banks  North America   \n",
       "4          Berkshire Hathaway  Financials  Investment Services  North America   \n",
       "\n",
       "         Country  Market Value  Sales  Profits  Assets  Rank  \\\n",
       "0          China         215.6  148.7     42.7  3124.9     1   \n",
       "1          China         174.4  121.3     34.2  2449.5     2   \n",
       "2          China         141.1  136.4     27.0  2405.4     3   \n",
       "3  United States         229.7  105.7     17.3  2435.3     4   \n",
       "4  United States         309.1  178.8     19.5   493.4     5   \n",
       "\n",
       "                                      Forbes Webpage  \n",
       "0              http://www.forbes.com/companies/icbc/  \n",
       "1  http://www.forbes.com/companies/china-construc...  \n",
       "2  http://www.forbes.com/companies/agricultural-b...  \n",
       "3    http://www.forbes.com/companies/jpmorgan-chase/  \n",
       "4  http://www.forbes.com/companies/berkshire-hath...  "
      ]
     },
     "execution_count": 3,
     "metadata": {},
     "output_type": "execute_result"
    }
   ],
   "source": [
    "data.head() #muestra un poco del archivo"
   ]
  },
  {
   "cell_type": "code",
   "execution_count": 4,
   "metadata": {
    "scrolled": true
   },
   "outputs": [
    {
     "name": "stdout",
     "output_type": "stream",
     "text": [
      "                      Company      Sector              Industry  \\\n",
      "0                        ICBC  Financials           Major Banks   \n",
      "1     China Construction Bank  Financials        Regional Banks   \n",
      "2  Agricultural Bank of China  Financials        Regional Banks   \n",
      "3              JPMorgan Chase  Financials           Major Banks   \n",
      "4          Berkshire Hathaway  Financials   Investment Services   \n",
      "5                 Exxon Mobil      Energy  Oil & Gas Operations   \n",
      "\n",
      "       Continent        Country  Market Value  Sales  Profits  Assets  Rank  \\\n",
      "0           Asia          China         215.6  148.7     42.7  3124.9     1   \n",
      "1           Asia          China         174.4  121.3     34.2  2449.5     2   \n",
      "2           Asia          China         141.1  136.4     27.0  2405.4     3   \n",
      "3  North America  United States         229.7  105.7     17.3  2435.3     4   \n",
      "4  North America  United States         309.1  178.8     19.5   493.4     5   \n",
      "5  North America  United States         422.3  394.0     32.6   346.8     6   \n",
      "\n",
      "                                      Forbes Webpage  \n",
      "0              http://www.forbes.com/companies/icbc/  \n",
      "1  http://www.forbes.com/companies/china-construc...  \n",
      "2  http://www.forbes.com/companies/agricultural-b...  \n",
      "3    http://www.forbes.com/companies/jpmorgan-chase/  \n",
      "4  http://www.forbes.com/companies/berkshire-hath...  \n",
      "5       http://www.forbes.com/companies/exxon-mobil/  \n"
     ]
    }
   ],
   "source": [
    "print(data[:6]) #lista las 6 primeras filas "
   ]
  },
  {
   "cell_type": "code",
   "execution_count": 5,
   "metadata": {},
   "outputs": [
    {
     "name": "stdout",
     "output_type": "stream",
     "text": [
      "Company                                            ICBC\n",
      "Sector                                       Financials\n",
      "Industry                                    Major Banks\n",
      "Continent                                          Asia\n",
      "Country                                           China\n",
      "Market Value                                      215.6\n",
      "Sales                                             148.7\n",
      "Profits                                            42.7\n",
      "Assets                                           3124.9\n",
      "Rank                                                  1\n",
      "Forbes Webpage    http://www.forbes.com/companies/icbc/\n",
      "Name: 0, dtype: object\n"
     ]
    }
   ],
   "source": [
    "print(data.loc[0]) #lista la primera fila\n",
    "#Si pondríamos solo \"data\" nos listaria todo el contenido"
   ]
  },
  {
   "cell_type": "code",
   "execution_count": 9,
   "metadata": {},
   "outputs": [
    {
     "name": "stdout",
     "output_type": "stream",
     "text": [
      "                         Company  Sales\n",
      "0                           ICBC  148.7\n",
      "1        China Construction Bank  121.3\n",
      "2     Agricultural Bank of China  136.4\n",
      "3                 JPMorgan Chase  105.7\n",
      "4             Berkshire Hathaway  178.8\n",
      "...                          ...    ...\n",
      "1995                      Cameco    2.4\n",
      "1996                   BMCE Bank    1.5\n",
      "1997           Synovus Financial    1.2\n",
      "1998                     Equifax    2.3\n",
      "1999          UNY Group Holdings   10.7\n",
      "\n",
      "[2000 rows x 2 columns]\n"
     ]
    }
   ],
   "source": [
    "print(data[['Company','Sales']])\n",
    "#lista dos columnas en este caso compañías y ventas"
   ]
  },
  {
   "cell_type": "code",
   "execution_count": 10,
   "metadata": {},
   "outputs": [
    {
     "name": "stdout",
     "output_type": "stream",
     "text": [
      "38360.99999999978\n"
     ]
    }
   ],
   "source": [
    "#suma de la columnas \"Sales\"\n",
    "print(sum(data[\"Sales\"]))"
   ]
  },
  {
   "cell_type": "code",
   "execution_count": 12,
   "metadata": {},
   "outputs": [
    {
     "name": "stdout",
     "output_type": "stream",
     "text": [
      "Market Value      22.20515\n",
      "Sales             19.18050\n",
      "Profits            1.46375\n",
      "Assets            80.48720\n",
      "Rank            1000.32450\n",
      "dtype: float64\n"
     ]
    }
   ],
   "source": [
    "#promedio de las columnas numéricas \n",
    "print(data.mean())"
   ]
  },
  {
   "cell_type": "code",
   "execution_count": 13,
   "metadata": {},
   "outputs": [
    {
     "name": "stdout",
     "output_type": "stream",
     "text": [
      "                        Company                  Sector  \\\n",
      "576   Porsche Automobil Holding  Consumer Discretionary   \n",
      "1136                   Kinnevik              Financials   \n",
      "1614        Ezdan Holding Group              Financials   \n",
      "1670           Equity Assurance                     NaN   \n",
      "1677          Bolsas & Mercados              Financials   \n",
      "1734         Honbridge Holdings                     NaN   \n",
      "1763          Hysan Development              Financials   \n",
      "1789           Intouch Holdings                     NaN   \n",
      "1800               RMB Holdings              Financials   \n",
      "1808            Cheniere Energy                     NaN   \n",
      "1811          NetDragon Websoft  Consumer Discretionary   \n",
      "1832         Hyprop Investments                     NaN   \n",
      "1849           Japan Securities              Financials   \n",
      "1994               Shikoku Bank              Financials   \n",
      "\n",
      "                        Industry      Continent        Country  Market Value  \\\n",
      "576   Auto & Truck Manufacturers         Europe        Germany          32.3   \n",
      "1136         Investment Services         Europe         Sweden          10.2   \n",
      "1614                 Real Estate           Asia          Qatar          11.6   \n",
      "1670                         NaN         Africa        Nigeria           0.0   \n",
      "1677         Investment Services         Europe          Spain           3.4   \n",
      "1734                         NaN           Asia      Hong Kong           1.3   \n",
      "1763                 Real Estate           Asia      Hong Kong           4.6   \n",
      "1789                         NaN           Asia       Thailand           7.6   \n",
      "1800         Investment Services         Africa   South Africa           6.4   \n",
      "1808                         NaN  North America  United States          13.7   \n",
      "1811       Recreational Products           Asia          China           1.0   \n",
      "1832                         NaN         Africa   South Africa           1.8   \n",
      "1849         Investment Services           Asia          Japan           0.6   \n",
      "1994              Regional Banks           Asia          Japan           0.4   \n",
      "\n",
      "      Sales  Profits  Assets  Rank  \\\n",
      "576     0.0      3.2    43.1   577   \n",
      "1136    0.2      1.3    10.5  1137   \n",
      "1614    0.3      0.3    11.3  1614   \n",
      "1670    0.0      0.0    54.3  1670   \n",
      "1677    0.4      0.2    53.6  1678   \n",
      "1734    0.0      1.2     2.0  1734   \n",
      "1763    0.4      0.8     9.8  1763   \n",
      "1789    0.3      0.5     1.5  1790   \n",
      "1800    0.0      0.6     3.0  1801   \n",
      "1808    0.3     -0.5     9.7  1808   \n",
      "1811    0.1      1.0     0.9  1811   \n",
      "1832    0.2      1.0     2.5  1833   \n",
      "1849    0.2      0.1    35.1  1850   \n",
      "1994    0.4      0.1    26.5  1994   \n",
      "\n",
      "                                         Forbes Webpage  \n",
      "576   http://www.forbes.com/companies/porsche-automo...  \n",
      "1136          http://www.forbes.com/companies/kinnevik/  \n",
      "1614  http://www.forbes.com/companies/ezdan-holding-...  \n",
      "1670  http://www.forbes.com/companies/equity-assurance/  \n",
      "1677   http://www.forbes.com/companies/bolsas-mercados/  \n",
      "1734  http://www.forbes.com/companies/honbridge-hold...  \n",
      "1763  http://www.forbes.com/companies/hysan-developm...  \n",
      "1789  http://www.forbes.com/companies/intouch-holdings/  \n",
      "1800      http://www.forbes.com/companies/rmb-holdings/  \n",
      "1808   http://www.forbes.com/companies/cheniere-energy/  \n",
      "1811  http://www.forbes.com/companies/netdragon-webs...  \n",
      "1832  http://www.forbes.com/companies/hyprop-investm...  \n",
      "1849  http://www.forbes.com/companies/japan-securities/  \n",
      "1994      http://www.forbes.com/companies/shikoku-bank/  \n"
     ]
    }
   ],
   "source": [
    "print(data[data[\"Sales\"]< 0.5])\n",
    "#Aqui le estamos diciendo que nos imprima todo de la columna \"Sales\" pero que sea menor a 0.5 "
   ]
  },
  {
   "cell_type": "code",
   "execution_count": null,
   "metadata": {},
   "outputs": [],
   "source": []
  }
 ],
 "metadata": {
  "kernelspec": {
   "display_name": "Python 3",
   "language": "python",
   "name": "python3"
  },
  "language_info": {
   "codemirror_mode": {
    "name": "ipython",
    "version": 3
   },
   "file_extension": ".py",
   "mimetype": "text/x-python",
   "name": "python",
   "nbconvert_exporter": "python",
   "pygments_lexer": "ipython3",
   "version": "3.8.3"
  }
 },
 "nbformat": 4,
 "nbformat_minor": 4
}
